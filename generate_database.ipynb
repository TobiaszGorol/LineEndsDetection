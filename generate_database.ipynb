{
 "cells": [
  {
   "cell_type": "code",
   "execution_count": 1,
   "id": "a1c96f00",
   "metadata": {},
   "outputs": [],
   "source": [
    "import cv2\n",
    "import numpy as np\n",
    "import csv\n",
    "import os"
   ]
  },
  {
   "cell_type": "code",
   "execution_count": 8,
   "id": "d8cb262d",
   "metadata": {},
   "outputs": [],
   "source": [
    "def generate_images(num_images):\n",
    "    folder_path = 'lines/'\n",
    "    os.makedirs(folder_path, exist_ok=True)\n",
    "    coordinates = []\n",
    "    for i in range(1, num_images+1):\n",
    "        img = np.ones((64, 64), dtype=np.uint8) * 255\n",
    "        start_x = np.random.randint(0, 63)\n",
    "        start_y = np.random.randint(0, 63)\n",
    "        end_x = np.random.randint(start_x + 1, 64)\n",
    "        end_y = np.random.randint(0, 64)\n",
    "        thickness = 1\n",
    "        cv2.line(img, (start_x, start_y), (end_x, end_y), 0, thickness)\n",
    "\n",
    "        image_path = os.path.join(folder_path, f\'{i}.png\')\n",
    "        cv2.imwrite(image_path, img)\n",
    "\n",
    "        coordinates.append((image_path, start_x, start_y, end_x, end_y))\n",
    "\n",
    "    with open('coordinates.csv', 'w', newline='') as f:\n",
    "        writer = csv.writer(f)\n",
    "        writer.writerow(['image_path', 'x1', 'y1', 'x2', 'y2'])  # Write header\n",
    "        writer.writerows(coordinates)"
   ]
  },
  {
   "cell_type": "code",
   "execution_count": 9,
   "id": "1155c2f2",
   "metadata": {},
   "outputs": [],
   "source": [
    "generate_images(100000)"
   ]
  }
 ],
 "metadata": {
  "kernelspec": {
   "display_name": "Python 3 (ipykernel)",
   "language": "python",
   "name": "python3"
  },
  "language_info": {
   "codemirror_mode": {
    "name": "ipython",
    "version": 3
   },
   "file_extension": ".py",
   "mimetype": "text/x-python",
   "name": "python",
   "nbconvert_exporter": "python",
   "pygments_lexer": "ipython3",
   "version": "3.9.7"
  }
 },
 "nbformat": 4,
 "nbformat_minor": 5
}
