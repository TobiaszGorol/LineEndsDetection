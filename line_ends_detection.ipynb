{
 "cells": [
  {
   "cell_type": "code",
   "execution_count": 1,
   "id": "b81bd585",
   "metadata": {},
   "outputs": [],
   "source": [
    "import numpy as np\n",
    "import pandas as pd"
   ]
  },
  {
   "cell_type": "code",
   "execution_count": 2,
   "id": "7a9b2154",
   "metadata": {},
   "outputs": [],
   "source": [
    "df = pd.read_csv('coordinates.csv')"
   ]
  },
  {
   "cell_type": "code",
   "execution_count": 3,
   "id": "2ee4ff17",
   "metadata": {},
   "outputs": [],
   "source": [
    "image_paths = df['image_path'].values\n",
    "coordinates = df[['x1', 'y1', 'x2', 'y2']].values"
   ]
  },
  {
   "cell_type": "code",
   "execution_count": 4,
   "id": "e75f4984",
   "metadata": {},
   "outputs": [],
   "source": [
    "images = []"
   ]
  },
  {
   "cell_type": "code",
   "execution_count": 5,
   "id": "1c2dfee4",
   "metadata": {},
   "outputs": [],
   "source": [
    "for path in image_paths:\n",
    "    image = cv2.imread(path, cv2.IMREAD_GRAYSCALE)\n",
    "    image = cv2.resize(image, (64, 64))\n",
    "    image = np.expand_dims(image, axis =- 1)\n",
    "    images.append(image)\n",
    "images = np.array(images)"
   ]
  },
  {
   "cell_type": "code",
   "execution_count": null,
   "id": "dfe1d322",
   "metadata": {},
   "outputs": [],
   "source": [
    "normalized_images = images / 255.0"
   ]
  },
  {
   "cell_type": "code",
   "execution_count": null,
   "id": "a61cb354",
   "metadata": {},
   "outputs": [],
   "source": [
    "train_images = normalized_images[:80000]\n",
    "test_images = normalized_images[80000:]\n",
    "train_coordinates = coordinates[:80000]\n",
    "test_coordinates = coordinates[80000:]"
   ]
  },
  {
   "cell_type": "code",
   "execution_count": null,
   "id": "6ae72c34",
   "metadata": {},
   "outputs": [],
   "source": [
    "train_images = train_images.reshape(-1, 64, 64, 1)\n",
    "test_images = test_images.reshape(-1, 64, 64, 1)\n",
    "train_coordinates = train_coordinates.reshape(-1, 4)\n",
    "test_coordinates = test_coordinates.reshape(-1, 4)"
   ]
  },
  {
   "cell_type": "code",
   "execution_count": null,
   "id": "270dc362",
   "metadata": {},
   "outputs": [],
   "source": [
    "from tensorflow import keras\n",
    "from tensorflow.keras import layers\n",
    "from keras.callbacks import EarlyStopping"
   ]
  },
  {
   "cell_type": "code",
   "execution_count": null,
   "id": "7ecba451",
   "metadata": {},
   "outputs": [],
   "source": [
    "early_stopping = EarlyStopping(monitor = 'val_loss', patience = 10, min_delta = 0.0001, restore_best_weights = True)"
   ]
  },
  {
   "cell_type": "code",
   "execution_count": null,
   "id": "23b5d156",
   "metadata": {},
   "outputs": [],
   "source": [
    "model_1 = keras.Sequential([\n",
    "    keras.layers.Conv2D(32, (3, 3), activation = 'relu', input_shape = (64, 64, 1)),\n",
    "    keras.layers.MaxPooling2D((2, 2)),\n",
    "    keras.layers.Conv2D(64, (3, 3), activation = 'relu'),\n",
    "    keras.layers.MaxPooling2D((2, 2)),\n",
    "    keras.layers.Flatten(),\n",
    "    keras.layers.Dense(64, activation = 'relu'),\n",
    "    keras.layers.Dense(4)\n",
    "])\n",
    "\n",
    "model_2 = keras.Sequential([\n",
    "    keras.layers.Conv2D(32, (3, 3), activation = 'relu', input_shape = (64, 64, 1)),\n",
    "    keras.layers.MaxPooling2D((2, 2)),\n",
    "    keras.layers.Conv2D(64, (3, 3), activation = 'relu'),\n",
    "    keras.layers.MaxPooling2D((2, 2)),\n",
    "    keras.layers.Conv2D(128, (3, 3), activation = 'relu'),\n",
    "    keras.layers.MaxPooling2D((2, 2)),\n",
    "    keras.layers.Flatten(),\n",
    "    keras.layers.Dense(128, activation = 'relu'),\n",
    "    keras.layers.Dense(64, activation = 'relu'),\n",
    "    keras.layers.Dense(4)\n",
    "]) "
   ]
  },
  {
   "cell_type": "code",
   "execution_count": null,
   "id": "f4ae2e0a",
   "metadata": {},
   "outputs": [],
   "source": [
    "model_1.compile(optimizer = 'adam', loss = 'mean_squared_error')\n",
    "model_2.compile(optimizer = 'adam', loss = 'mean_squared_error')"
   ]
  },
  {
   "cell_type": "code",
   "execution_count": null,
   "id": "4c9aa535",
   "metadata": {},
   "outputs": [],
   "source": [
    "epochs = 100\n",
    "batch_size = 128"
   ]
  },
  {
   "cell_type": "code",
   "execution_count": null,
   "id": "ce520a45",
   "metadata": {},
   "outputs": [],
   "source": [
    "history_1 = model_1.fit(train_images, train_coordinates, epochs = epochs, batch_size = batch_size, validation_data = (test_images, test_coordinates), callbacks = [early_stopping])\n",
    "history_2 = model_1.fit(train_images, train_coordinates, epochs = epochs, batch_size = batch_size, validation_data = (test_images, test_coordinates), callbacks = [early_stopping])"
   ]
  },
  {
   "cell_type": "code",
   "execution_count": null,
   "id": "d83d2544",
   "metadata": {},
   "outputs": [],
   "source": [
    "history_1_df = pd.DataFrame(history.history)\n",
    "history_2_df = pd.DataFrame(history.history)"
   ]
  },
  {
   "cell_type": "code",
   "execution_count": null,
   "id": "0a9fedba",
   "metadata": {},
   "outputs": [],
   "source": [
    "for i in range(1, 61, 20):\n",
    "    history_1_df.loc[i:, ['loss', 'val_loss']].plot();\n",
    "    print('Minimum validation loss: {}'.format(history_df['val_loss'].min()))"
   ]
  },
  {
   "cell_type": "code",
   "execution_count": null,
   "id": "473c7e9a",
   "metadata": {},
   "outputs": [],
   "source": [
    "for i in range(1, 61, 20):\n",
    "    history_2_df.loc[i:, ['loss', 'val_loss']].plot();\n",
    "    print('Minimum validation loss: {}'.format(history_df['val_loss'].min()))"
   ]
  }
 ],
 "metadata": {
  "kernelspec": {
   "display_name": "Python 3 (ipykernel)",
   "language": "python",
   "name": "python3"
  },
  "language_info": {
   "codemirror_mode": {
    "name": "ipython",
    "version": 3
   },
   "file_extension": ".py",
   "mimetype": "text/x-python",
   "name": "python",
   "nbconvert_exporter": "python",
   "pygments_lexer": "ipython3",
   "version": "3.9.7"
  }
 },
 "nbformat": 4,
 "nbformat_minor": 5
}
